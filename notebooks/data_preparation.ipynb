{
 "cells": [
  {
   "cell_type": "markdown",
   "id": "e0e03ddb-0a28-418b-b7a1-f189ef4ffa97",
   "metadata": {},
   "source": [
    "# Data preprocessing"
   ]
  },
  {
   "cell_type": "markdown",
   "id": "f07e2db6-f9bb-437e-83ec-14e172fba3ba",
   "metadata": {},
   "source": [
    "## Compute the consumption by hour"
   ]
  },
  {
   "cell_type": "code",
   "execution_count": 42,
   "id": "32773750-af97-44b1-b6be-2bf8fcc1c3e9",
   "metadata": {},
   "outputs": [],
   "source": [
    "import pandas as pd\n",
    "from pathlib import Path\n",
    "from pprint import pprint\n",
    "from datetime import datetime, timedelta # to convert timestamp/ID to human readable format\n",
    "from tqdm import tqdm"
   ]
  },
  {
   "cell_type": "code",
   "execution_count": 2,
   "id": "ec2a501d-4082-494e-87f9-3baacb319540",
   "metadata": {},
   "outputs": [],
   "source": [
    "# load CSV files\n",
    "raw_data = Path('rawdata')\n",
    "tables = {}\n",
    "for i, file in enumerate(raw_data.iterdir()):\n",
    "    name = file.name.split('.')[0]\n",
    "    tables[f\"{name}\"] = pd.read_csv(f\"rawdata/{file.name}\", header = None, names=('ID', name))"
   ]
  },
  {
   "cell_type": "markdown",
   "id": "c96a4bc8-061a-4bdf-9245-f46d0f0720e0",
   "metadata": {},
   "source": [
    "## Date transformation functions"
   ]
  },
  {
   "cell_type": "code",
   "execution_count": 4,
   "id": "7c89f4a4-eb9f-4c9d-b87c-b1b4462f2867",
   "metadata": {},
   "outputs": [],
   "source": [
    "def ticks_to_iso(ticks):\n",
    "    \"\"\"Convert .NET DateTime.Ticks to an ISO 8601 formatted string.\"\"\"\n",
    "    ticks_epoch = datetime(1, 1, 1)  # .NET starts from year 0001-01-01\n",
    "    date_time = ticks_epoch + timedelta(microseconds=ticks / 10)  # Convert ticks to microseconds\n",
    "    return date_time.isoformat()\n",
    "\n",
    "def ticks_to_ymd(ticks):\n",
    "    \"\"\"Convert .NET DateTime.Ticks to an ISO 8601 formatted string.\"\"\"\n",
    "    ticks_epoch = datetime(1, 1, 1)  # .NET starts from year 0001-01-01\n",
    "    date_time = ticks_epoch + timedelta(microseconds=ticks / 10)  # Convert ticks to microseconds\n",
    "    return date_time.strftime(\"%Y-%m-%d\")\n",
    "\n",
    "# Adds date and ISO date to table in tables dictionary\n",
    "def add_dates(table_name): \n",
    "    tables[table_name][\"date\"] = tables[table_name].ID.apply(ticks_to_ymd)\n",
    "    tables[table_name][\"iso_date\"] = tables[table_name].ID.apply(ticks_to_iso)\n",
    "   "
   ]
  },
  {
   "cell_type": "code",
   "execution_count": 83,
   "id": "371aa4b3-d322-4e6a-8743-389b8377eee4",
   "metadata": {},
   "outputs": [
    {
     "data": {
      "text/html": [
       "<div>\n",
       "<style scoped>\n",
       "    .dataframe tbody tr th:only-of-type {\n",
       "        vertical-align: middle;\n",
       "    }\n",
       "\n",
       "    .dataframe tbody tr th {\n",
       "        vertical-align: top;\n",
       "    }\n",
       "\n",
       "    .dataframe thead th {\n",
       "        text-align: right;\n",
       "    }\n",
       "</style>\n",
       "<table border=\"1\" class=\"dataframe\">\n",
       "  <thead>\n",
       "    <tr style=\"text-align: right;\">\n",
       "      <th></th>\n",
       "      <th>iso_date</th>\n",
       "      <th>dateHour</th>\n",
       "      <th>fuelMassFlowRate</th>\n",
       "      <th>timeDiff</th>\n",
       "      <th>fuelMassConsumption</th>\n",
       "    </tr>\n",
       "  </thead>\n",
       "  <tbody>\n",
       "    <tr>\n",
       "      <th>4</th>\n",
       "      <td>2010-02-16 12:48:13.560688</td>\n",
       "      <td>2010-02-16T12</td>\n",
       "      <td>0.266306</td>\n",
       "      <td>0 days 00:00:00</td>\n",
       "      <td>0.000000</td>\n",
       "    </tr>\n",
       "    <tr>\n",
       "      <th>5</th>\n",
       "      <td>2010-02-16 12:48:14.582064</td>\n",
       "      <td>2010-02-16T12</td>\n",
       "      <td>0.261940</td>\n",
       "      <td>0 days 00:00:01.021376</td>\n",
       "      <td>0.267539</td>\n",
       "    </tr>\n",
       "    <tr>\n",
       "      <th>6</th>\n",
       "      <td>2010-02-16 12:48:15.603488</td>\n",
       "      <td>2010-02-16T12</td>\n",
       "      <td>0.265296</td>\n",
       "      <td>0 days 00:00:01.021424</td>\n",
       "      <td>0.270979</td>\n",
       "    </tr>\n",
       "    <tr>\n",
       "      <th>7</th>\n",
       "      <td>2010-02-16 12:48:16.626888</td>\n",
       "      <td>2010-02-16T12</td>\n",
       "      <td>0.263480</td>\n",
       "      <td>0 days 00:00:01.023400</td>\n",
       "      <td>0.269645</td>\n",
       "    </tr>\n",
       "    <tr>\n",
       "      <th>8</th>\n",
       "      <td>2010-02-16 12:48:17.649280</td>\n",
       "      <td>2010-02-16T12</td>\n",
       "      <td>0.262434</td>\n",
       "      <td>0 days 00:00:01.022392</td>\n",
       "      <td>0.268311</td>\n",
       "    </tr>\n",
       "    <tr>\n",
       "      <th>...</th>\n",
       "      <td>...</td>\n",
       "      <td>...</td>\n",
       "      <td>...</td>\n",
       "      <td>...</td>\n",
       "      <td>...</td>\n",
       "    </tr>\n",
       "    <tr>\n",
       "      <th>1627319</th>\n",
       "      <td>2010-04-12 22:25:12.142864</td>\n",
       "      <td>2010-04-12T22</td>\n",
       "      <td>0.189356</td>\n",
       "      <td>0 days 00:00:01.023416</td>\n",
       "      <td>0.193790</td>\n",
       "    </tr>\n",
       "    <tr>\n",
       "      <th>1627320</th>\n",
       "      <td>2010-04-12 22:25:13.164264</td>\n",
       "      <td>2010-04-12T22</td>\n",
       "      <td>0.190873</td>\n",
       "      <td>0 days 00:00:01.021400</td>\n",
       "      <td>0.194958</td>\n",
       "    </tr>\n",
       "    <tr>\n",
       "      <th>1627321</th>\n",
       "      <td>2010-04-12 22:25:14.186664</td>\n",
       "      <td>2010-04-12T22</td>\n",
       "      <td>0.197969</td>\n",
       "      <td>0 days 00:00:01.022400</td>\n",
       "      <td>0.202404</td>\n",
       "    </tr>\n",
       "    <tr>\n",
       "      <th>1627322</th>\n",
       "      <td>2010-04-12 22:25:15.208072</td>\n",
       "      <td>2010-04-12T22</td>\n",
       "      <td>0.208952</td>\n",
       "      <td>0 days 00:00:01.021408</td>\n",
       "      <td>0.213426</td>\n",
       "    </tr>\n",
       "    <tr>\n",
       "      <th>1627323</th>\n",
       "      <td>2010-04-12 22:25:16.230472</td>\n",
       "      <td>2010-04-12T22</td>\n",
       "      <td>0.230502</td>\n",
       "      <td>0 days 00:00:01.022400</td>\n",
       "      <td>0.235665</td>\n",
       "    </tr>\n",
       "  </tbody>\n",
       "</table>\n",
       "<p>1626840 rows × 5 columns</p>\n",
       "</div>"
      ],
      "text/plain": [
       "                          iso_date       dateHour  fuelMassFlowRate  \\\n",
       "4       2010-02-16 12:48:13.560688  2010-02-16T12          0.266306   \n",
       "5       2010-02-16 12:48:14.582064  2010-02-16T12          0.261940   \n",
       "6       2010-02-16 12:48:15.603488  2010-02-16T12          0.265296   \n",
       "7       2010-02-16 12:48:16.626888  2010-02-16T12          0.263480   \n",
       "8       2010-02-16 12:48:17.649280  2010-02-16T12          0.262434   \n",
       "...                            ...            ...               ...   \n",
       "1627319 2010-04-12 22:25:12.142864  2010-04-12T22          0.189356   \n",
       "1627320 2010-04-12 22:25:13.164264  2010-04-12T22          0.190873   \n",
       "1627321 2010-04-12 22:25:14.186664  2010-04-12T22          0.197969   \n",
       "1627322 2010-04-12 22:25:15.208072  2010-04-12T22          0.208952   \n",
       "1627323 2010-04-12 22:25:16.230472  2010-04-12T22          0.230502   \n",
       "\n",
       "                      timeDiff  fuelMassConsumption  \n",
       "4              0 days 00:00:00             0.000000  \n",
       "5       0 days 00:00:01.021376             0.267539  \n",
       "6       0 days 00:00:01.021424             0.270979  \n",
       "7       0 days 00:00:01.023400             0.269645  \n",
       "8       0 days 00:00:01.022392             0.268311  \n",
       "...                        ...                  ...  \n",
       "1627319 0 days 00:00:01.023416             0.193790  \n",
       "1627320 0 days 00:00:01.021400             0.194958  \n",
       "1627321 0 days 00:00:01.022400             0.202404  \n",
       "1627322 0 days 00:00:01.021408             0.213426  \n",
       "1627323 0 days 00:00:01.022400             0.235665  \n",
       "\n",
       "[1626840 rows x 5 columns]"
      ]
     },
     "execution_count": 83,
     "metadata": {},
     "output_type": "execute_result"
    }
   ],
   "source": [
    "# Join fuelDensity and fuelVolumeFlowRate\n",
    "df_density = pd.read_csv(\"rawdata/fuelDensity.csv\", header = None, names=('ID', 'fuelDensity'))\n",
    "df_volFlow = pd.read_csv(\"rawdata/fuelVolumeFlowRate.csv\", header = None, names=('ID', 'fuelVolumeFlowRate'))\n",
    "df_fuel = df_density.merge(df_volFlow, on='ID')\n",
    "# df_fuel = tables[\"fuelDensity\"].merge(tables[\"fuelVolumeFlowRate\"], on = \"ID\")\n",
    "\n",
    "# 1) Add date, hour cloumns and fuelMassFlowRate\n",
    "df_fuel[\"iso_date\"] = df_fuel.ID.apply(ticks_to_iso)\n",
    "df_fuel[\"dateHour\"] = df_fuel.ID.apply(lambda x: ticks_to_iso(x)[:13])\n",
    "df_fuel[\"fuelMassFlowRate\"] = df_fuel.fuelDensity * df_fuel.fuelVolumeFlowRate\n",
    "\n",
    "# 2) drop unecessary cols\n",
    "df_fuel = df_fuel.drop('ID', axis=1)\n",
    "df_fuel = df_fuel.drop([\"fuelDensity\",\"fuelVolumeFlowRate\"], axis=1)\n",
    "\n",
    "# TIMEDIFF\n",
    "\n",
    "# 3) Change iso_date type to timestamp in order to compute time differences\n",
    "df_fuel[\"iso_date\"] = pd.to_datetime(df_fuel[\"iso_date\"], format='ISO8601')\n",
    "\n",
    "# 4) Drop lines where fuel flow is 0, IMPORTANT\n",
    "#    time diffs must be calculated only for the engine runtime\n",
    "#    or maybe I can skip that, at least I will have 0 consumption per hour in training dataset\n",
    "df_fuel = df_fuel[df_fuel[\"fuelMassFlowRate\"] != 0]\n",
    "\n",
    "# 5) Add time diff\n",
    "df_fuel[\"timeDiff\"] = df_fuel.iso_date.diff()\n",
    "\n",
    "# 6) Fill border line with 0 (only a small error)\n",
    "df_fuel.timeDiff = df_fuel.timeDiff.fillna(pd.Timedelta(seconds=0))\n",
    "\n",
    "# 7) Despite the efort to count make diffs only from runtime some non-sense timediffs occured.\n",
    "#    Therefore I am going to filter them out. Sampling frequency was around 1.02 s\n",
    "df_fuel = df_fuel[df_fuel[\"timeDiff\"].dt.total_seconds() < 1.2]\n",
    "\n",
    "# Compute fuel consumption for every interval\n",
    "df_fuel[\"fuelMassConsumption\"] = df_fuel.fuelMassFlowRate * df_fuel.timeDiff.dt.total_seconds()\n",
    "df_fuel"
   ]
  },
  {
   "cell_type": "code",
   "execution_count": 84,
   "id": "097d6b4d-e786-4380-a96d-4ca066de988b",
   "metadata": {},
   "outputs": [],
   "source": [
    "df_daily_consumption = df_fuel[[\"dateHour\",\"fuelMassConsumption\"]].groupby(\"dateHour\").sum().apply(lambda x: x*0.001)\n"
   ]
  },
  {
   "cell_type": "code",
   "execution_count": 85,
   "id": "99befa85-58e1-41b5-ac9f-22c31a23e45d",
   "metadata": {},
   "outputs": [
    {
     "data": {
      "text/html": [
       "<div>\n",
       "<style scoped>\n",
       "    .dataframe tbody tr th:only-of-type {\n",
       "        vertical-align: middle;\n",
       "    }\n",
       "\n",
       "    .dataframe tbody tr th {\n",
       "        vertical-align: top;\n",
       "    }\n",
       "\n",
       "    .dataframe thead th {\n",
       "        text-align: right;\n",
       "    }\n",
       "</style>\n",
       "<table border=\"1\" class=\"dataframe\">\n",
       "  <thead>\n",
       "    <tr style=\"text-align: right;\">\n",
       "      <th></th>\n",
       "      <th>fuelMassConsumption</th>\n",
       "    </tr>\n",
       "    <tr>\n",
       "      <th>dateHour</th>\n",
       "      <th></th>\n",
       "    </tr>\n",
       "  </thead>\n",
       "  <tbody>\n",
       "    <tr>\n",
       "      <th>2010-02-16T12</th>\n",
       "      <td>0.309810</td>\n",
       "    </tr>\n",
       "    <tr>\n",
       "      <th>2010-02-16T13</th>\n",
       "      <td>1.672615</td>\n",
       "    </tr>\n",
       "    <tr>\n",
       "      <th>2010-02-16T14</th>\n",
       "      <td>1.663355</td>\n",
       "    </tr>\n",
       "    <tr>\n",
       "      <th>2010-02-16T15</th>\n",
       "      <td>0.329521</td>\n",
       "    </tr>\n",
       "    <tr>\n",
       "      <th>2010-02-17T06</th>\n",
       "      <td>0.520858</td>\n",
       "    </tr>\n",
       "    <tr>\n",
       "      <th>...</th>\n",
       "      <td>...</td>\n",
       "    </tr>\n",
       "    <tr>\n",
       "      <th>2010-04-12T18</th>\n",
       "      <td>1.772452</td>\n",
       "    </tr>\n",
       "    <tr>\n",
       "      <th>2010-04-12T19</th>\n",
       "      <td>1.901760</td>\n",
       "    </tr>\n",
       "    <tr>\n",
       "      <th>2010-04-12T20</th>\n",
       "      <td>0.596245</td>\n",
       "    </tr>\n",
       "    <tr>\n",
       "      <th>2010-04-12T21</th>\n",
       "      <td>2.176730</td>\n",
       "    </tr>\n",
       "    <tr>\n",
       "      <th>2010-04-12T22</th>\n",
       "      <td>0.729445</td>\n",
       "    </tr>\n",
       "  </tbody>\n",
       "</table>\n",
       "<p>682 rows × 1 columns</p>\n",
       "</div>"
      ],
      "text/plain": [
       "               fuelMassConsumption\n",
       "dateHour                          \n",
       "2010-02-16T12             0.309810\n",
       "2010-02-16T13             1.672615\n",
       "2010-02-16T14             1.663355\n",
       "2010-02-16T15             0.329521\n",
       "2010-02-17T06             0.520858\n",
       "...                            ...\n",
       "2010-04-12T18             1.772452\n",
       "2010-04-12T19             1.901760\n",
       "2010-04-12T20             0.596245\n",
       "2010-04-12T21             2.176730\n",
       "2010-04-12T22             0.729445\n",
       "\n",
       "[682 rows x 1 columns]"
      ]
     },
     "metadata": {},
     "output_type": "display_data"
    },
    {
     "name": "stdout",
     "output_type": "stream",
     "text": [
      "<class 'pandas.core.frame.DataFrame'>\n",
      "Index: 682 entries, 2010-02-16T12 to 2010-04-12T22\n",
      "Data columns (total 1 columns):\n",
      " #   Column               Non-Null Count  Dtype  \n",
      "---  ------               --------------  -----  \n",
      " 0   fuelMassConsumption  682 non-null    float64\n",
      "dtypes: float64(1)\n",
      "memory usage: 10.7+ KB\n"
     ]
    },
    {
     "data": {
      "text/plain": [
       "None"
      ]
     },
     "metadata": {},
     "output_type": "display_data"
    },
    {
     "data": {
      "text/html": [
       "<div>\n",
       "<style scoped>\n",
       "    .dataframe tbody tr th:only-of-type {\n",
       "        vertical-align: middle;\n",
       "    }\n",
       "\n",
       "    .dataframe tbody tr th {\n",
       "        vertical-align: top;\n",
       "    }\n",
       "\n",
       "    .dataframe thead th {\n",
       "        text-align: right;\n",
       "    }\n",
       "</style>\n",
       "<table border=\"1\" class=\"dataframe\">\n",
       "  <thead>\n",
       "    <tr style=\"text-align: right;\">\n",
       "      <th></th>\n",
       "      <th>fuelMassConsumption</th>\n",
       "    </tr>\n",
       "  </thead>\n",
       "  <tbody>\n",
       "    <tr>\n",
       "      <th>count</th>\n",
       "      <td>682.000000</td>\n",
       "    </tr>\n",
       "    <tr>\n",
       "      <th>mean</th>\n",
       "      <td>1.330281</td>\n",
       "    </tr>\n",
       "    <tr>\n",
       "      <th>std</th>\n",
       "      <td>0.686605</td>\n",
       "    </tr>\n",
       "    <tr>\n",
       "      <th>min</th>\n",
       "      <td>0.003561</td>\n",
       "    </tr>\n",
       "    <tr>\n",
       "      <th>25%</th>\n",
       "      <td>0.675496</td>\n",
       "    </tr>\n",
       "    <tr>\n",
       "      <th>50%</th>\n",
       "      <td>1.486395</td>\n",
       "    </tr>\n",
       "    <tr>\n",
       "      <th>75%</th>\n",
       "      <td>2.013399</td>\n",
       "    </tr>\n",
       "    <tr>\n",
       "      <th>max</th>\n",
       "      <td>2.312076</td>\n",
       "    </tr>\n",
       "  </tbody>\n",
       "</table>\n",
       "</div>"
      ],
      "text/plain": [
       "       fuelMassConsumption\n",
       "count           682.000000\n",
       "mean              1.330281\n",
       "std               0.686605\n",
       "min               0.003561\n",
       "25%               0.675496\n",
       "50%               1.486395\n",
       "75%               2.013399\n",
       "max               2.312076"
      ]
     },
     "metadata": {},
     "output_type": "display_data"
    }
   ],
   "source": [
    "display(df_daily_consumption)\n",
    "display(df_daily_consumption.info())\n",
    "display(df_daily_consumption.describe())"
   ]
  },
  {
   "cell_type": "code",
   "execution_count": 13,
   "id": "4bac19c7-487d-46f1-a627-dbfa908bd679",
   "metadata": {},
   "outputs": [
    {
     "data": {
      "text/html": [
       "<div>\n",
       "<style scoped>\n",
       "    .dataframe tbody tr th:only-of-type {\n",
       "        vertical-align: middle;\n",
       "    }\n",
       "\n",
       "    .dataframe tbody tr th {\n",
       "        vertical-align: top;\n",
       "    }\n",
       "\n",
       "    .dataframe thead th {\n",
       "        text-align: right;\n",
       "    }\n",
       "</style>\n",
       "<table border=\"1\" class=\"dataframe\">\n",
       "  <thead>\n",
       "    <tr style=\"text-align: right;\">\n",
       "      <th></th>\n",
       "      <th>iso_date</th>\n",
       "      <th>fuelMassFlowRate</th>\n",
       "      <th>timeDiff</th>\n",
       "      <th>fuelMassConsumption</th>\n",
       "    </tr>\n",
       "  </thead>\n",
       "  <tbody>\n",
       "    <tr>\n",
       "      <th>count</th>\n",
       "      <td>1626840</td>\n",
       "      <td>1.626840e+06</td>\n",
       "      <td>1626840</td>\n",
       "      <td>1.626840e+06</td>\n",
       "    </tr>\n",
       "    <tr>\n",
       "      <th>mean</th>\n",
       "      <td>2010-03-16 06:06:46.706343168</td>\n",
       "      <td>5.455613e-01</td>\n",
       "      <td>0 days 00:00:01.022207642</td>\n",
       "      <td>5.576771e-01</td>\n",
       "    </tr>\n",
       "    <tr>\n",
       "      <th>min</th>\n",
       "      <td>2010-02-16 12:48:13.560688</td>\n",
       "      <td>2.159260e-02</td>\n",
       "      <td>0 days 00:00:00</td>\n",
       "      <td>0.000000e+00</td>\n",
       "    </tr>\n",
       "    <tr>\n",
       "      <th>25%</th>\n",
       "      <td>2010-03-02 13:38:17.303463936</td>\n",
       "      <td>5.443790e-01</td>\n",
       "      <td>0 days 00:00:01.021376</td>\n",
       "      <td>5.564628e-01</td>\n",
       "    </tr>\n",
       "    <tr>\n",
       "      <th>50%</th>\n",
       "      <td>2010-03-15 21:02:59.776580096</td>\n",
       "      <td>5.801077e-01</td>\n",
       "      <td>0 days 00:00:01.022344</td>\n",
       "      <td>5.929853e-01</td>\n",
       "    </tr>\n",
       "    <tr>\n",
       "      <th>75%</th>\n",
       "      <td>2010-03-29 07:13:28.987108096</td>\n",
       "      <td>6.053773e-01</td>\n",
       "      <td>0 days 00:00:01.022432</td>\n",
       "      <td>6.188304e-01</td>\n",
       "    </tr>\n",
       "    <tr>\n",
       "      <th>max</th>\n",
       "      <td>2010-04-12 22:25:16.230472</td>\n",
       "      <td>8.806616e-01</td>\n",
       "      <td>0 days 00:00:01.056008</td>\n",
       "      <td>9.074478e-01</td>\n",
       "    </tr>\n",
       "    <tr>\n",
       "      <th>std</th>\n",
       "      <td>NaN</td>\n",
       "      <td>1.102407e-01</td>\n",
       "      <td>0 days 00:00:00.001420576</td>\n",
       "      <td>1.126915e-01</td>\n",
       "    </tr>\n",
       "  </tbody>\n",
       "</table>\n",
       "</div>"
      ],
      "text/plain": [
       "                            iso_date  fuelMassFlowRate  \\\n",
       "count                        1626840      1.626840e+06   \n",
       "mean   2010-03-16 06:06:46.706343168      5.455613e-01   \n",
       "min       2010-02-16 12:48:13.560688      2.159260e-02   \n",
       "25%    2010-03-02 13:38:17.303463936      5.443790e-01   \n",
       "50%    2010-03-15 21:02:59.776580096      5.801077e-01   \n",
       "75%    2010-03-29 07:13:28.987108096      6.053773e-01   \n",
       "max       2010-04-12 22:25:16.230472      8.806616e-01   \n",
       "std                              NaN      1.102407e-01   \n",
       "\n",
       "                        timeDiff  fuelMassConsumption  \n",
       "count                    1626840         1.626840e+06  \n",
       "mean   0 days 00:00:01.022207642         5.576771e-01  \n",
       "min              0 days 00:00:00         0.000000e+00  \n",
       "25%       0 days 00:00:01.021376         5.564628e-01  \n",
       "50%       0 days 00:00:01.022344         5.929853e-01  \n",
       "75%       0 days 00:00:01.022432         6.188304e-01  \n",
       "max       0 days 00:00:01.056008         9.074478e-01  \n",
       "std    0 days 00:00:00.001420576         1.126915e-01  "
      ]
     },
     "execution_count": 13,
     "metadata": {},
     "output_type": "execute_result"
    }
   ],
   "source": [
    "df_fuel.describe()"
   ]
  },
  {
   "cell_type": "code",
   "execution_count": 17,
   "id": "a4bd5656-c551-4ffb-a135-686e149dd489",
   "metadata": {},
   "outputs": [],
   "source": [
    "# df_daily_consumption.to_csv('daily_consumption.csv',header=True)"
   ]
  },
  {
   "cell_type": "markdown",
   "id": "89946fd0-ff7e-4eb7-aaae-cd4deedec2f9",
   "metadata": {},
   "source": [
    "# Feature extraction"
   ]
  },
  {
   "cell_type": "markdown",
   "id": "d61e15b3-7998-4fb6-8c71-a36d9678d8ee",
   "metadata": {},
   "source": [
    "## Fuel Temperature\n",
    "This property directly determines the fuel density."
   ]
  },
  {
   "cell_type": "code",
   "execution_count": 23,
   "id": "d9a28571-54c2-4705-b137-49a1820c79ab",
   "metadata": {},
   "outputs": [],
   "source": [
    "def transform_feature(csvFile):\n",
    "    feature_name = csvFile.split('/')[1].split('.')[0]\n",
    "    df = pd.read_csv(csvFile, names=['iso_date', feature_name])\n",
    "    df[\"date\"] = df.iso_date.apply(ticks_to_ymd)\n",
    "    df[\"iso_date\"] = df.iso_date.apply(ticks_to_iso)\n",
    "    df[\"dateHour\"] = df.iso_date.apply(lambda x: x[:13])\n",
    "    return df"
   ]
  },
  {
   "cell_type": "code",
   "execution_count": 8,
   "id": "04f80f8c-725f-4c2a-b7a4-e2add0743772",
   "metadata": {},
   "outputs": [],
   "source": [
    "def lost_hours(df_aggre, df_toMerge):\n",
    "    n_0 = df_aggre.shape[0]\n",
    "    n_1 = df_aggre.merge(df_toMerge, on='dateHour').shape[0]\n",
    "    return abs(n_0 - n_1)"
   ]
  },
  {
   "cell_type": "markdown",
   "id": "80eb0d41-3a97-4213-8656-d60eed907bee",
   "metadata": {},
   "source": [
    "## GPS\n",
    "To somehow to represent GPS information in numerical value, I will perform following transformation of signs:\n",
    "(North ... +, South ... -, East ... -, West ... +)"
   ]
  },
  {
   "cell_type": "code",
   "execution_count": 6,
   "id": "b497dcb9-7498-4b66-9d07-b8b798d9e605",
   "metadata": {},
   "outputs": [],
   "source": [
    "def transform_gps(val):\n",
    "    match val[-1]:\n",
    "        case 'W':\n",
    "            val = float(val[:-1])\n",
    "        case 'E':\n",
    "            val = float(val[:-1]) * (-1)\n",
    "        case 'N':\n",
    "            val = float(val[:-1])\n",
    "        case 'S':\n",
    "            val = float(val[:-1]) * (-1)\n",
    "    return val"
   ]
  },
  {
   "cell_type": "markdown",
   "id": "b1c9d196-fc14-4833-9dc2-479017e94024",
   "metadata": {},
   "source": [
    "# Create dataset"
   ]
  },
  {
   "cell_type": "code",
   "execution_count": 5,
   "id": "d34adcd8-02a5-42c4-bf3f-ef3f5bdc188d",
   "metadata": {},
   "outputs": [],
   "source": [
    "def create_dataset(files):\n",
    "        df = transform_feature(f\"rawdata/{files}.csv\")\n",
    "        feature_name = files\n",
    "        # transform GPS\n",
    "        if feature_name in (\"longitude\", \"latitude\"):\n",
    "            # transform to numeric\n",
    "            df[feature_name] = df[feature_name].apply(transform_gps)\n",
    "            # get extreme values\n",
    "            df_min = df[['dateHour',feature_name]].groupby('dateHour').min()\n",
    "            df_max = df[['dateHour',feature_name]].groupby('dateHour').max()\n",
    "            # group exremes in df\n",
    "            df_toMerge = df_max.merge(df_min, on='dateHour', suffixes=('_max','_min'))\n",
    "            \n",
    "        #all other features\n",
    "        else:\n",
    "            # calculate AVG value per hour\n",
    "            df_toMerge = df[[\"dateHour\",feature_name]].groupby(\"dateHour\").mean()\n",
    "        return df_toMerge"
   ]
  },
  {
   "cell_type": "code",
   "execution_count": 13,
   "id": "a46b3afb-6398-4720-bd40-cd63c7ba980c",
   "metadata": {},
   "outputs": [],
   "source": [
    "data = [\n",
    "    'starboardRudder',\n",
    "     'portPitch',\n",
    "     'level2median',\n",
    "     'latitude',\n",
    "     'speedKnots',\n",
    "     'longitudinalWaterSpeed',\n",
    "     'trackDegreeTrue',\n",
    "     'windSpeed',\n",
    "     'trueHeading',\n",
    "     'starboardPitch',\n",
    "     'portRudder','processed_data/proto_dataset.csv',header=True\n",
    "     'longitude',\n",
    "     'level1median',\n",
    "     'trackDegreeMagnetic',\n",
    "     'inclinometer-raw',\n",
    "     'windAngle',\n",
    "     'speedKmh',\n",
    "     'fuelTemp'\n",
    "    ]"
   ]
  },
  {
   "cell_type": "code",
   "execution_count": 27,
   "id": "b8bb2f4d-9262-444c-91c6-4f03f95d87e2",
   "metadata": {},
   "outputs": [
    {
     "name": "stderr",
     "output_type": "stream",
     "text": [
      "100%|█████████████████████████████████████████████████████████████████████████████████████████████████████████████████████████████████████████████████████████| 18/18 [03:38<00:00, 12.14s/it]\n"
     ]
    }
   ],
   "source": [
    "df_total = pd.read_csv('processed_data/daily_consumption.csv')\n",
    "for file in tqdm(data):\n",
    "    df_inter = create_dataset(file)\n",
    "    df_total = df_total.merge(df_inter, on='dateHour')"
   ]
  },
  {
   "cell_type": "code",
   "execution_count": 33,
   "id": "14bb6ef5-e45b-40ff-90dd-1ed2e785ea31",
   "metadata": {},
   "outputs": [
    {
     "data": {
      "text/plain": [
       "(682, 22)"
      ]
     },
     "execution_count": 33,
     "metadata": {},
     "output_type": "execute_result"
    }
   ],
   "source": [
    "df_total.describe()\n",
    "df_total.shape"
   ]
  },
  {
   "cell_type": "code",
   "execution_count": 31,
   "id": "cdea1c13-82ee-4219-9d52-888b134c3ec5",
   "metadata": {},
   "outputs": [],
   "source": [
    "df_total.to_csv('processed_data/proto_dataset.csv',header=True)"
   ]
  },
  {
   "cell_type": "markdown",
   "id": "44c40abf-8ab1-43ba-b94e-7a10601cf453",
   "metadata": {},
   "source": [
    "## Division and scaling"
   ]
  },
  {
   "cell_type": "code",
   "execution_count": 76,
   "id": "d6354e66-f6b5-4de8-9708-8ef8df85a7f6",
   "metadata": {},
   "outputs": [],
   "source": [
    "import numpy as np\n",
    "import matplotlib.pyplot as plt\n",
    "%matplotlib inline \n",
    "\n",
    "from sklearn.preprocessing import StandardScaler\n",
    "from sklearn.model_selection import train_test_split\n",
    "from sklearn.linear_model import Ridge\n",
    "from sklearn.metrics import root_mean_squared_error, r2_score\n",
    "from sklearn.tree import DecisionTreeRegressor\n",
    "from sklearn.model_selection import ParameterGrid"
   ]
  },
  {
   "cell_type": "markdown",
   "id": "036fad25-3ab0-4937-a509-935e3b7db345",
   "metadata": {},
   "source": [
    "### Spliting data"
   ]
  },
  {
   "cell_type": "code",
   "execution_count": 39,
   "id": "476f7ec4-9572-4654-9ca3-69aecaa6fc4f",
   "metadata": {},
   "outputs": [
    {
     "data": {
      "text/plain": [
       "(477, 20)"
      ]
     },
     "metadata": {},
     "output_type": "display_data"
    },
    {
     "data": {
      "text/plain": [
       "(477,)"
      ]
     },
     "metadata": {},
     "output_type": "display_data"
    },
    {
     "data": {
      "text/plain": [
       "(102, 20)"
      ]
     },
     "metadata": {},
     "output_type": "display_data"
    },
    {
     "data": {
      "text/plain": [
       "(102,)"
      ]
     },
     "metadata": {},
     "output_type": "display_data"
    },
    {
     "data": {
      "text/plain": [
       "(103, 20)"
      ]
     },
     "metadata": {},
     "output_type": "display_data"
    },
    {
     "data": {
      "text/plain": [
       "(103,)"
      ]
     },
     "metadata": {},
     "output_type": "display_data"
    }
   ],
   "source": [
    "Xdata = df_total.drop([\"fuelMassConsumption\", \"dateHour\"], axis = 1)\n",
    "ydata = df_total[\"fuelMassConsumption\"]\n",
    "\n",
    "rd_seed = 42\n",
    "\n",
    "\n",
    "Xtrain, Xtest, ytrain, ytest = train_test_split(Xdata, ydata, test_size=0.3, random_state=rd_seed)\n",
    "Xval, Xtest, yval, ytest = train_test_split(Xtest, ytest, test_size=0.5, random_state=rd_seed)\n",
    "display(Xtrain.shape)\n",
    "display(ytrain.shape)\n",
    "display(Xval.shape)\n",
    "display(yval.shape)\n",
    "display(Xtest.shape)\n",
    "display(ytest.shape)"
   ]
  },
  {
   "cell_type": "markdown",
   "id": "1f96f184-9e63-4895-9119-6f252171f74f",
   "metadata": {},
   "source": [
    "### Scaling"
   ]
  },
  {
   "cell_type": "code",
   "execution_count": 40,
   "id": "eccc46a7-b76d-4ce0-b809-56ed471f031c",
   "metadata": {},
   "outputs": [],
   "source": [
    "scaler = StandardScaler()\n",
    "Xtrain_scaled = scaler.fit_transform(Xtrain)\n",
    "Xval_scaled = scaler.transform(Xval)"
   ]
  },
  {
   "cell_type": "markdown",
   "id": "a7940e31-0364-4173-8a8f-b93b8317a5f2",
   "metadata": {},
   "source": [
    "# Model selection"
   ]
  },
  {
   "cell_type": "markdown",
   "id": "f1189d43-0667-4b84-b7f0-0a457d943251",
   "metadata": {},
   "source": [
    "## Ridge regresion\n",
    "Linear model is the simplest one, therefore it can be a good starting point. And slight regularisation should be also useful."
   ]
  },
  {
   "cell_type": "code",
   "execution_count": 130,
   "id": "db4f571b-f864-4da4-bef6-90c938ac395d",
   "metadata": {},
   "outputs": [],
   "source": [
    "def train_ridge_alpha(begin, end, visual=True):\n",
    "    alphas = np.linspace(begin, end, 50)\n",
    "    RMSE = []\n",
    "    r2 = []\n",
    "    for alpha in alphas:\n",
    "        clf_Ridge = Ridge(alpha = alpha)\n",
    "        clf_Ridge.fit(Xtrain_scaled, ytrain)\n",
    "        RMSE.append(root_mean_squared_error(yval, clf_Ridge.predict(Xval_scaled)))\n",
    "        r2.append(r2_score(yval, clf_Ridge.predict(Xval_scaled)))\n",
    "    if visual == True:        \n",
    "        plt.plot(alphas, RMSE, '.')\n",
    "        plt.show()\n",
    "    return alphas, RMSE, r2"
   ]
  },
  {
   "cell_type": "code",
   "execution_count": 132,
   "id": "7ec0f43e-3f62-47f4-b78e-0923a81c33a8",
   "metadata": {},
   "outputs": [
    {
     "data": {
      "image/png": "[encoded data removed]",
      "text/plain": [
       "<Figure size 640x480 with 1 Axes>"
      ]
     },
     "metadata": {},
     "output_type": "display_data"
    },
    {
     "data": {
      "image/png": "[encoded data removed]",
      "text/plain": [
       "<Figure size 640x480 with 1 Axes>"
      ]
     },
     "metadata": {},
     "output_type": "display_data"
    },
    {
     "data": {
      "image/png": "[encoded data removed]",
      "text/plain": [
       "<Figure size 640x480 with 1 Axes>"
      ]
     },
     "metadata": {},
     "output_type": "display_data"
    }
   ],
   "source": [
    "aplhas1, ridgeRMSE1, ridge_r2_01 = train_ridge_alpha(0,25)\n",
    "\n",
    "alphas2, ridgeRMSE2, ridge_r2_02 = train_ridge_alpha(1,6)\n",
    "\n",
    "alphas3, ridgeRMSE3, ridge_r2_03 = train_ridge_alpha(2,5)"
   ]
  },
  {
   "cell_type": "code",
   "execution_count": 133,
   "id": "d73f069b-e29c-4a4f-b94f-0d56ce88cf1e",
   "metadata": {},
   "outputs": [
    {
     "name": "stdout",
     "output_type": "stream",
     "text": [
      "Mean val consumption:  1.305776401619324\n",
      "Best RMSE ridge: 0.26035681841063574\n",
      "Best R2 SVM: 0.8559114468876028\n",
      "Best rel. RMSE 0.0020 %\n"
     ]
    }
   ],
   "source": [
    "print('Mean val consumption: ',yval.mean())\n",
    "opt_alpha = np.argmin(ridgeRMSE3)\n",
    "best_RMSE_ridge = np.min(ridgeRMSE3)\n",
    "print('Best RMSE ridge:', best_RMSE_ridge)\n",
    "best_R2_ridge = np.min(ridge_r2_03)\n",
    "print('Best R2 SVM:', best_R2_ridge)\n",
    "print(f'Best rel. RMSE {((best_RMSE_ridge/yval.mean())*0.01):.4f} %')"
   ]
  },
  {
   "cell_type": "markdown",
   "id": "66c8a31b-baad-4990-89f2-c64e4d85abe2",
   "metadata": {},
   "source": [
    "## SVM\n",
    "Now let's try SMV in order to introduce non-linearity."
   ]
  },
  {
   "cell_type": "code",
   "execution_count": 86,
   "id": "7e4d1e64-cc3a-4cb6-87c4-cc166f0d26c6",
   "metadata": {},
   "outputs": [],
   "source": [
    "from sklearn.svm import SVR"
   ]
  },
  {
   "cell_type": "code",
   "execution_count": 141,
   "id": "2b9cb505-2932-4f69-abc9-f3af9f64a225",
   "metadata": {},
   "outputs": [],
   "source": [
    "def train_SVR_C(begin, end, visual=True, zoom=1):\n",
    "    Cs = [i/zoom for i in range(begin, end)]\n",
    "    RMSE = []\n",
    "    r2 = []\n",
    "    for c in Cs:\n",
    "        clf = SVR(kernel = 'rbf',C = c)\n",
    "        clf.fit(Xtrain_scaled, ytrain)\n",
    "        ypred = clf.predict(Xval_scaled)\n",
    "        RMSE.append(root_mean_squared_error(yval, ypred))\n",
    "        r2.append(r2_score(yval, ypred))\n",
    "    if visual == True:        \n",
    "        plt.plot(Cs, RMSE, '.')\n",
    "        plt.show()\n",
    "    return Cs, RMSE, r2"
   ]
  },
  {
   "cell_type": "code",
   "execution_count": 148,
   "id": "929a72d7-bb8f-48fb-b225-0dbc9ed4e6db",
   "metadata": {},
   "outputs": [
    {
     "data": {
      "image/png": "[encoded data removed]",
      "text/plain": [
       "<Figure size 640x480 with 1 Axes>"
      ]
     },
     "metadata": {},
     "output_type": "display_data"
    },
    {
     "data": {
      "image/png": "[encoded data removed]",
      "text/plain": [
       "<Figure size 640x480 with 1 Axes>"
      ]
     },
     "metadata": {},
     "output_type": "display_data"
    },
    {
     "data": {
      "image/png": "[encoded data removed]",
      "text/plain": [
       "<Figure size 640x480 with 1 Axes>"
      ]
     },
     "metadata": {},
     "output_type": "display_data"
    }
   ],
   "source": [
    "Cs1, svmRMSE1, smvR_2_01= train_SVR_C(1,25)\n",
    "Cs2, svmRMSE2, smvR_2_02= train_SVR_C(20,70, zoom=10)\n",
    "Cs3, svmRMSE3, smvR_2_03= train_SVR_C(70,120, zoom=20)"
   ]
  },
  {
   "cell_type": "code",
   "execution_count": 149,
   "id": "cfe5026b-984c-45fc-8506-0f7f8bfb9d35",
   "metadata": {},
   "outputs": [
    {
     "name": "stdout",
     "output_type": "stream",
     "text": [
      "Mean val consumption:  1.305776401619324\n",
      "Best RMSE SVM: 0.14601792375053854\n",
      "Best R2 SVM: 0.9543223170231783\n",
      "Best rel. RMSE 0.0011 %\n"
     ]
    }
   ],
   "source": [
    "print('Mean val consumption: ',yval.mean())\n",
    "opt_C = np.argmin(svmRMSE3)\n",
    "best_RMSE_SVM = np.min(svmRMSE3)\n",
    "print('Best RMSE SVM:', best_RMSE_SVM)\n",
    "best_R2_SVM = np.min(smvR_2_03)\n",
    "print('Best R2 SVM:', best_R2_SVM)\n",
    "print(f'Best rel. RMSE {((best_RMSE_SVM/yval.mean())*0.01):.4f} %')"
   ]
  }
 ],
 "metadata": {
  "kernelspec": {
   "display_name": "Python 3 (ipykernel)",
   "language": "python",
   "name": "python3"
  },
  "language_info": {
   "codemirror_mode": {
    "name": "ipython",
    "version": 3
   },
   "file_extension": ".py",
   "mimetype": "text/x-python",
   "name": "python",
   "nbconvert_exporter": "python",
   "pygments_lexer": "ipython3",
   "version": "3.12.4"
  }
 },
 "nbformat": 4,
 "nbformat_minor": 5
}
